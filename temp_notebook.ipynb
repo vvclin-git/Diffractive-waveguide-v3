{
 "cells": [
  {
   "cell_type": "code",
   "execution_count": 3,
   "metadata": {},
   "outputs": [
    {
     "name": "stdout",
     "output_type": "stream",
     "text": [
      "[670.0, 525.0]\n"
     ]
    }
   ],
   "source": [
    "a = {'R': 670.0, 'G': 525.0, 'B': 450.0} \n",
    "b = {'R': True, 'G': True, 'B': False}\n",
    "c = [a[k] for k in a if b[k]]\n",
    "print(c)"
   ]
  }
 ],
 "metadata": {
  "kernelspec": {
   "display_name": "Python 3",
   "language": "python",
   "name": "python3"
  },
  "language_info": {
   "codemirror_mode": {
    "name": "ipython",
    "version": 3
   },
   "file_extension": ".py",
   "mimetype": "text/x-python",
   "name": "python",
   "nbconvert_exporter": "python",
   "pygments_lexer": "ipython3",
   "version": "3.13.2"
  }
 },
 "nbformat": 4,
 "nbformat_minor": 2
}
